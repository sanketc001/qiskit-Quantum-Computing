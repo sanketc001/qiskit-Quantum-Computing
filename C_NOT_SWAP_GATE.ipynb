{
  "nbformat": 4,
  "nbformat_minor": 0,
  "metadata": {
    "colab": {
      "name": "Untitled1.ipynb",
      "provenance": []
    },
    "kernelspec": {
      "name": "python3",
      "display_name": "Python 3"
    },
    "language_info": {
      "name": "python"
    }
  },
  "cells": [
    {
      "cell_type": "code",
      "execution_count": 3,
      "metadata": {
        "id": "j5Zd1KSJ9_BP"
      },
      "outputs": [],
      "source": [
        "# !pip install qiskit\n",
        "from qiskit import QuantumCircuit, Aer, assemble\n",
        "import numpy as np\n",
        "from qiskit.visualization import plot_histogram, plot_bloch_multivector\n",
        "sim = Aer.get_backend('aer_simulator')"
      ]
    },
    {
      "cell_type": "code",
      "source": [
        "# !pip install pylatexenc\n",
        "qc = QuantumCircuit(2)\n",
        "# Apply H-gate to the first:\n",
        "qc.h(0)\n",
        "# Apply a CNOT:\n",
        "qc.cx(0,1)\n",
        "qc.swap(0,1)\n",
        "qc.draw(output='mpl')"
      ],
      "metadata": {
        "colab": {
          "base_uri": "https://localhost:8080/",
          "height": 140
        },
        "id": "pvQBrDs0-BpY",
        "outputId": "cb894425-b4b4-4c70-e7eb-240b996fd2ec"
      },
      "execution_count": 11,
      "outputs": [
        {
          "output_type": "execute_result",
          "data": {
            "text/plain": [
              "<Figure size 267.052x144.48 with 1 Axes>"
            ],
            "image/png": "[encoded data removed]"
          },
          "metadata": {},
          "execution_count": 11
        }
      ]
    }
  ]
}