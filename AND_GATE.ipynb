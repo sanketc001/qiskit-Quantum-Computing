{
  "nbformat": 4,
  "nbformat_minor": 0,
  "metadata": {
    "colab": {
      "name": "Untitled4.ipynb",
      "provenance": []
    },
    "kernelspec": {
      "name": "python3",
      "display_name": "Python 3"
    },
    "language_info": {
      "name": "python"
    }
  },
  "cells": [
    {
      "cell_type": "code",
      "source": [
        "# !pip install qiskit\n",
        "from qiskit import QuantumCircuit, Aer, assemble"
      ],
      "metadata": {
        "id": "UgavgRYZ4JY8"
      },
      "execution_count": 6,
      "outputs": []
    },
    {
      "cell_type": "code",
      "execution_count": 7,
      "metadata": {
        "id": "wQdwjSAi3sCE"
      },
      "outputs": [],
      "source": [
        "def AND(inp1,inp2):\n",
        "    \"\"\"An AND gate.\n",
        "    \n",
        "    Parameters:\n",
        "        inpt1 (str): Input 1, encoded in qubit 0.\n",
        "        inpt2 (str): Input 2, encoded in qubit 1.\n",
        "        \n",
        "    Returns:\n",
        "        QuantumCircuit: Output XOR circuit.\n",
        "        str: Output value measured from qubit 2.\n",
        "    \"\"\"\n",
        "    qc = QuantumCircuit(3, 1) \n",
        "    qc.reset(range(2))\n",
        "  \n",
        "    if inp1=='1':\n",
        "        qc.x(0)\n",
        "    if inp2=='1':\n",
        "        qc.x(1)\n",
        "        \n",
        "    qc.barrier()\n",
        "\n",
        "    # this is where your program for quantum AND gate goes\n",
        "    \n",
        "    qc.barrier()\n",
        "    qc.measure(2, 0) # output from qubit 2 is measured\n",
        "  \n",
        "    # We'll run the program on a simulator\n",
        "    backend = Aer.get_backend('aer_simulator')\n",
        "    # Since the output will be deterministic, we can use just a single shot to get it\n",
        "    job = backend.run(qc, shots=1, memory=True)\n",
        "    output = job.result().get_memory()[0]\n",
        "  \n",
        "    return qc, output\n"
      ]
    },
    {
      "cell_type": "code",
      "source": [
        "## Test the function\n",
        "for inp1 in ['0', '1']:\n",
        "    for inp2 in ['0', '1']:\n",
        "        qc, output = AND(inp1, inp2)\n",
        "        print('AND with inputs',inp1,inp2,'gives output',output)\n",
        "        display(qc.draw())\n",
        "        print('\\n')\n"
      ],
      "metadata": {
        "colab": {
          "base_uri": "https://localhost:8080/",
          "height": 780
        },
        "id": "jA_8XSPd4BLC",
        "outputId": "91aad1eb-9930-4b90-f750-d0bb52b1afe0"
      },
      "execution_count": 8,
      "outputs": [
        {
          "output_type": "stream",
          "name": "stdout",
          "text": [
            "AND with inputs 0 0 gives output 0\n"
          ]
        },
        {
          "output_type": "display_data",
          "data": {
            "text/plain": [
              "           ░  ░    \n",
              "q_0: ─|0>──░──░────\n",
              "           ░  ░    \n",
              "q_1: ─|0>──░──░────\n",
              "           ░  ░ ┌─┐\n",
              "q_2: ──────░──░─┤M├\n",
              "           ░  ░ └╥┘\n",
              "c: 1/════════════╩═\n",
              "                 0 "
            ],
            "text/html": [
              "<pre style=\"word-wrap: normal;white-space: pre;background: #fff0;line-height: 1.1;font-family: &quot;Courier New&quot;,Courier,monospace\">           ░  ░    \n",
              "q_0: ─|0>──░──░────\n",
              "           ░  ░    \n",
              "q_1: ─|0>──░──░────\n",
              "           ░  ░ ┌─┐\n",
              "q_2: ──────░──░─┤M├\n",
              "           ░  ░ └╥┘\n",
              "c: 1/════════════╩═\n",
              "                 0 </pre>"
            ]
          },
          "metadata": {}
        },
        {
          "output_type": "stream",
          "name": "stdout",
          "text": [
            "\n",
            "\n",
            "AND with inputs 0 1 gives output 0\n"
          ]
        },
        {
          "output_type": "display_data",
          "data": {
            "text/plain": [
              "                ░  ░    \n",
              "q_0: ─|0>───────░──░────\n",
              "          ┌───┐ ░  ░    \n",
              "q_1: ─|0>─┤ X ├─░──░────\n",
              "          └───┘ ░  ░ ┌─┐\n",
              "q_2: ───────────░──░─┤M├\n",
              "                ░  ░ └╥┘\n",
              "c: 1/═════════════════╩═\n",
              "                      0 "
            ],
            "text/html": [
              "<pre style=\"word-wrap: normal;white-space: pre;background: #fff0;line-height: 1.1;font-family: &quot;Courier New&quot;,Courier,monospace\">                ░  ░    \n",
              "q_0: ─|0>───────░──░────\n",
              "          ┌───┐ ░  ░    \n",
              "q_1: ─|0>─┤ X ├─░──░────\n",
              "          └───┘ ░  ░ ┌─┐\n",
              "q_2: ───────────░──░─┤M├\n",
              "                ░  ░ └╥┘\n",
              "c: 1/═════════════════╩═\n",
              "                      0 </pre>"
            ]
          },
          "metadata": {}
        },
        {
          "output_type": "stream",
          "name": "stdout",
          "text": [
            "\n",
            "\n",
            "AND with inputs 1 0 gives output 0\n"
          ]
        },
        {
          "output_type": "display_data",
          "data": {
            "text/plain": [
              "          ┌───┐ ░  ░    \n",
              "q_0: ─|0>─┤ X ├─░──░────\n",
              "          └───┘ ░  ░    \n",
              "q_1: ─|0>───────░──░────\n",
              "                ░  ░ ┌─┐\n",
              "q_2: ───────────░──░─┤M├\n",
              "                ░  ░ └╥┘\n",
              "c: 1/═════════════════╩═\n",
              "                      0 "
            ],
            "text/html": [
              "<pre style=\"word-wrap: normal;white-space: pre;background: #fff0;line-height: 1.1;font-family: &quot;Courier New&quot;,Courier,monospace\">          ┌───┐ ░  ░    \n",
              "q_0: ─|0>─┤ X ├─░──░────\n",
              "          └───┘ ░  ░    \n",
              "q_1: ─|0>───────░──░────\n",
              "                ░  ░ ┌─┐\n",
              "q_2: ───────────░──░─┤M├\n",
              "                ░  ░ └╥┘\n",
              "c: 1/═════════════════╩═\n",
              "                      0 </pre>"
            ]
          },
          "metadata": {}
        },
        {
          "output_type": "stream",
          "name": "stdout",
          "text": [
            "\n",
            "\n",
            "AND with inputs 1 1 gives output 0\n"
          ]
        },
        {
          "output_type": "display_data",
          "data": {
            "text/plain": [
              "          ┌───┐ ░  ░    \n",
              "q_0: ─|0>─┤ X ├─░──░────\n",
              "          ├───┤ ░  ░    \n",
              "q_1: ─|0>─┤ X ├─░──░────\n",
              "          └───┘ ░  ░ ┌─┐\n",
              "q_2: ───────────░──░─┤M├\n",
              "                ░  ░ └╥┘\n",
              "c: 1/═════════════════╩═\n",
              "                      0 "
            ],
            "text/html": [
              "<pre style=\"word-wrap: normal;white-space: pre;background: #fff0;line-height: 1.1;font-family: &quot;Courier New&quot;,Courier,monospace\">          ┌───┐ ░  ░    \n",
              "q_0: ─|0>─┤ X ├─░──░────\n",
              "          ├───┤ ░  ░    \n",
              "q_1: ─|0>─┤ X ├─░──░────\n",
              "          └───┘ ░  ░ ┌─┐\n",
              "q_2: ───────────░──░─┤M├\n",
              "                ░  ░ └╥┘\n",
              "c: 1/═════════════════╩═\n",
              "                      0 </pre>"
            ]
          },
          "metadata": {}
        },
        {
          "output_type": "stream",
          "name": "stdout",
          "text": [
            "\n",
            "\n"
          ]
        }
      ]
    }
  ]
}