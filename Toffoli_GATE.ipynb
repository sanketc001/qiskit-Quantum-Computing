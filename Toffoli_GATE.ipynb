{
  "nbformat": 4,
  "nbformat_minor": 0,
  "metadata": {
    "colab": {
      "name": "Untitled3.ipynb",
      "provenance": []
    },
    "kernelspec": {
      "name": "python3",
      "display_name": "Python 3"
    },
    "language_info": {
      "name": "python"
    }
  },
  "cells": [
    {
      "cell_type": "code",
      "execution_count": 16,
      "metadata": {
        "id": "-pzzUao0O2FT"
      },
      "outputs": [],
      "source": [
        "# !pip install qiskit\n",
        "# !pip install pylatexenc\n",
        "from qiskit import QuantumCircuit, Aer, assemble\n",
        "from math import pi\n",
        "import numpy as np\n",
        "from qiskit.visualization import plot_bloch_multivector, plot_histogram, array_to_latex\n"
      ]
    },
    {
      "cell_type": "code",
      "source": [
        "qc = QuantumCircuit(3)\n",
        "a = 0\n",
        "b = 1\n",
        "t = 2\n",
        "# Toffoli with control qubits a and b and target t\n",
        "qc.ccx(a,b,t)\n",
        "qc.draw(output='mpl')\n"
      ],
      "metadata": {
        "colab": {
          "base_uri": "https://localhost:8080/",
          "height": 185
        },
        "id": "-d26YUx2Po0I",
        "outputId": "5ad74669-b242-4fdd-b321-db83a511c659"
      },
      "execution_count": 17,
      "outputs": [
        {
          "output_type": "execute_result",
          "data": {
            "text/plain": [
              "<Figure size 146.797x204.68 with 1 Axes>"
            ],
            "image/png": "[encoded data removed]"
          },
          "metadata": {},
          "execution_count": 17
        }
      ]
    },
    {
      "cell_type": "code",
      "source": [
        "qc = QuantumCircuit(3)\n",
        "theta = pi\n",
        "qc.cp(theta,b,t)\n",
        "qc.cx(a,b)\n",
        "qc.cp(-theta,b,t)\n",
        "qc.cx(a,b)\n",
        "qc.cp(theta,a,t)\n",
        "qc.draw(output='mpl')\n"
      ],
      "metadata": {
        "colab": {
          "base_uri": "https://localhost:8080/",
          "height": 185
        },
        "id": "gYhAr_uhPuOK",
        "outputId": "38c87f44-5383-42b0-b918-80ce3d7b07be"
      },
      "execution_count": 24,
      "outputs": [
        {
          "output_type": "execute_result",
          "data": {
            "text/plain": [
              "<Figure size 447.797x204.68 with 1 Axes>"
            ],
            "image/png": "[encoded data removed]"
          },
          "metadata": {},
          "execution_count": 24
        }
      ]
    }
  ]
}